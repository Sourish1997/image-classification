{
 "cells": [
  {
   "cell_type": "markdown",
   "metadata": {
    "collapsed": true
   },
   "source": [
    "# Image Classification\n",
    "In this project, you'll classify images from the [CIFAR-10 dataset](https://www.cs.toronto.edu/~kriz/cifar.html).  The dataset consists of airplanes, dogs, cats, and other objects. You'll preprocess the images, then train a convolutional neural network on all the samples. The images need to be normalized and the labels need to be one-hot encoded.  You'll get to apply what you learned and build a convolutional, max pooling, dropout, and fully connected layers.  At the end, you'll get to see your neural network's predictions on the sample images.\n",
    "## Get the Data\n",
    "Run the following cell to download the [CIFAR-10 dataset for python](https://www.cs.toronto.edu/~kriz/cifar-10-python.tar.gz)."
   ]
  },
  {
   "cell_type": "code",
   "execution_count": 2,
   "metadata": {},
   "outputs": [
    {
     "name": "stderr",
     "output_type": "stream",
     "text": [
      "CIFAR-10 Dataset: 171MB [04:37, 615kB/s]                                \n"
     ]
    },
    {
     "name": "stdout",
     "output_type": "stream",
     "text": [
      "All files found!\n"
     ]
    }
   ],
   "source": [
    "\"\"\"\n",
    "DON'T MODIFY ANYTHING IN THIS CELL THAT IS BELOW THIS LINE\n",
    "\"\"\"\n",
    "from urllib.request import urlretrieve\n",
    "from os.path import isfile, isdir\n",
    "from tqdm import tqdm\n",
    "import problem_unittests as tests\n",
    "import tarfile\n",
    "\n",
    "cifar10_dataset_folder_path = 'cifar-10-batches-py'\n",
    "\n",
    "class DLProgress(tqdm):\n",
    "    last_block = 0\n",
    "\n",
    "    def hook(self, block_num=1, block_size=1, total_size=None):\n",
    "        self.total = total_size\n",
    "        self.update((block_num - self.last_block) * block_size)\n",
    "        self.last_block = block_num\n",
    "\n",
    "if not isfile('cifar-10-python.tar.gz'):\n",
    "    with DLProgress(unit='B', unit_scale=True, miniters=1, desc='CIFAR-10 Dataset') as pbar:\n",
    "        urlretrieve(\n",
    "            'https://www.cs.toronto.edu/~kriz/cifar-10-python.tar.gz',\n",
    "            'cifar-10-python.tar.gz',\n",
    "            pbar.hook)\n",
    "\n",
    "if not isdir(cifar10_dataset_folder_path):\n",
    "    with tarfile.open('cifar-10-python.tar.gz') as tar:\n",
    "        tar.extractall()\n",
    "        tar.close()\n",
    "\n",
    "\n",
    "tests.test_folder_path(cifar10_dataset_folder_path)"
   ]
  },
  {
   "cell_type": "markdown",
   "metadata": {},
   "source": [
    "## Explore the Data\n",
    "The dataset is broken into batches to prevent your machine from running out of memory.  The CIFAR-10 dataset consists of 5 batches, named `data_batch_1`, `data_batch_2`, etc.. Each batch contains the labels and images that are one of the following:\n",
    "* airplane\n",
    "* automobile\n",
    "* bird\n",
    "* cat\n",
    "* deer\n",
    "* dog\n",
    "* frog\n",
    "* horse\n",
    "* ship\n",
    "* truck\n",
    "\n",
    "Understanding a dataset is part of making predictions on the data.  Play around with the code cell below by changing the `batch_id` and `sample_id`. The `batch_id` is the id for a batch (1-5). The `sample_id` is the id for a image and label pair in the batch.\n",
    "\n",
    "Ask yourself \"What are all possible labels?\", \"What is the range of values for the image data?\", \"Are the labels in order or random?\".  Answers to questions like these will help you preprocess the data and end up with better predictions."
   ]
  },
  {
   "cell_type": "code",
   "execution_count": 15,
   "metadata": {},
   "outputs": [
    {
     "name": "stdout",
     "output_type": "stream",
     "text": [
      "\n",
      "Stats of batch 5:\n",
      "Samples: 10000\n",
      "Label Counts: {0: 1014, 1: 1014, 2: 952, 3: 1016, 4: 997, 5: 1025, 6: 980, 7: 977, 8: 1003, 9: 1022}\n",
      "First 20 Labels: [1, 8, 5, 1, 5, 7, 4, 3, 8, 2, 7, 2, 0, 1, 5, 9, 6, 2, 0, 8]\n",
      "\n",
      "Example of Image 10:\n",
      "Image - Min Value: 16 Max Value: 227\n",
      "Image - Shape: (32, 32, 3)\n",
      "Label - Label Id: 7 Name: horse\n"
     ]
    },
    {
     "data": {
      "image/png": "[encoded data removed]",
      "text/plain": [
       "<Figure size 432x288 with 1 Axes>"
      ]
     },
     "metadata": {
      "image/png": {
       "height": 250,
       "width": 253
      }
     },
     "output_type": "display_data"
    }
   ],
   "source": [
    "%matplotlib inline\n",
    "%config InlineBackend.figure_format = 'retina'\n",
    "\n",
    "import helper\n",
    "import numpy as np\n",
    "\n",
    "# Explore the dataset\n",
    "batch_id = 5\n",
    "sample_id = 10\n",
    "helper.display_stats(cifar10_dataset_folder_path, batch_id, sample_id)"
   ]
  },
  {
   "cell_type": "markdown",
   "metadata": {},
   "source": [
    "## Implement Preprocess Functions\n",
    "### Normalize\n",
    "In the cell below, implement the `normalize` function to take in image data, `x`, and return it as a normalized Numpy array. The values should be in the range of 0 to 1, inclusive.  The return object should be the same shape as `x`."
   ]
  },
  {
   "cell_type": "code",
   "execution_count": 74,
   "metadata": {},
   "outputs": [
    {
     "name": "stdout",
     "output_type": "stream",
     "text": [
      "Tests Passed\n"
     ]
    }
   ],
   "source": [
    "def normalize(x):\n",
    "    \"\"\"\n",
    "    Normalize a list of sample image data in the range of 0 to 1\n",
    "    : x: List of image data.  The image shape is (32, 32, 3)\n",
    "    : return: Numpy array of normalize data\n",
    "    \"\"\"\n",
    "    # TODO: Implement Function\n",
    "    \n",
    "    return x / x.max()\n",
    "\n",
    "\"\"\"\n",
    "DON'T MODIFY ANYTHING IN THIS CELL THAT IS BELOW THIS LINE\n",
    "\"\"\"\n",
    "tests.test_normalize(normalize)"
   ]
  },
  {
   "cell_type": "markdown",
   "metadata": {},
   "source": [
    "### One-hot encode\n",
    "Just like the previous code cell, you'll be implementing a function for preprocessing.  This time, you'll implement the `one_hot_encode` function. The input, `x`, are a list of labels.  Implement the function to return the list of labels as One-Hot encoded Numpy array.  The possible values for labels are 0 to 9. The one-hot encoding function should return the same encoding for each value between each call to `one_hot_encode`.  Make sure to save the map of encodings outside the function.\n",
    "\n",
    "**Hint:**\n",
    "\n",
    "Look into LabelBinarizer in the preprocessing module of sklearn."
   ]
  },
  {
   "cell_type": "code",
   "execution_count": 75,
   "metadata": {},
   "outputs": [
    {
     "name": "stdout",
     "output_type": "stream",
     "text": [
      "Tests Passed\n"
     ]
    }
   ],
   "source": [
    "from sklearn.preprocessing import LabelBinarizer\n",
    "\n",
    "lb = LabelBinarizer()\n",
    "lb.fit([i for i in range(0, 10)])\n",
    "\n",
    "def one_hot_encode(x):\n",
    "    \"\"\"\n",
    "    One hot encode a list of sample labels. Return a one-hot encoded vector for each label.\n",
    "    : x: List of sample Labels\n",
    "    : return: Numpy array of one-hot encoded labels\n",
    "    \"\"\"\n",
    "    # TODO: Implement Function\n",
    "    \n",
    "    return lb.transform(x)\n",
    "\n",
    "\n",
    "\"\"\"\n",
    "DON'T MODIFY ANYTHING IN THIS CELL THAT IS BELOW THIS LINE\n",
    "\"\"\"\n",
    "tests.test_one_hot_encode(one_hot_encode)"
   ]
  },
  {
   "cell_type": "markdown",
   "metadata": {},
   "source": [
    "### Randomize Data\n",
    "As you saw from exploring the data above, the order of the samples are randomized.  It doesn't hurt to randomize it again, but you don't need to for this dataset."
   ]
  },
  {
   "cell_type": "markdown",
   "metadata": {},
   "source": [
    "## Preprocess all the data and save it\n",
    "Running the code cell below will preprocess all the CIFAR-10 data and save it to file. The code below also uses 10% of the training data for validation."
   ]
  },
  {
   "cell_type": "code",
   "execution_count": 76,
   "metadata": {},
   "outputs": [],
   "source": [
    "\"\"\"\n",
    "DON'T MODIFY ANYTHING IN THIS CELL\n",
    "\"\"\"\n",
    "# Preprocess Training, Validation, and Testing Data\n",
    "helper.preprocess_and_save_data(cifar10_dataset_folder_path, normalize, one_hot_encode)"
   ]
  },
  {
   "cell_type": "markdown",
   "metadata": {},
   "source": [
    "# Check Point\n",
    "This is your first checkpoint.  If you ever decide to come back to this notebook or have to restart the notebook, you can start from here.  The preprocessed data has been saved to disk."
   ]
  },
  {
   "cell_type": "code",
   "execution_count": 77,
   "metadata": {
    "collapsed": true
   },
   "outputs": [],
   "source": [
    "\"\"\"\n",
    "DON'T MODIFY ANYTHING IN THIS CELL\n",
    "\"\"\"\n",
    "import pickle\n",
    "import problem_unittests as tests\n",
    "import helper\n",
    "\n",
    "# Load the Preprocessed Validation data\n",
    "valid_features, valid_labels = pickle.load(open('preprocess_validation.p', mode='rb'))"
   ]
  },
  {
   "cell_type": "markdown",
   "metadata": {},
   "source": [
    "## Build the network\n",
    "For the neural network, you'll build each layer into a function.  Most of the code you've seen has been outside of functions. To test your code more thoroughly, we require that you put each layer in a function.  This allows us to give you better feedback and test for simple mistakes using our unittests before you submit your project.\n",
    "\n",
    ">**Note:** If you're finding it hard to dedicate enough time for this course each week, we've provided a small shortcut to this part of the project. In the next couple of problems, you'll have the option to use classes from the [TensorFlow Layers](https://www.tensorflow.org/api_docs/python/tf/layers) or [TensorFlow Layers (contrib)](https://www.tensorflow.org/api_guides/python/contrib.layers) packages to build each layer, except the layers you build in the \"Convolutional and Max Pooling Layer\" section.  TF Layers is similar to Keras's and TFLearn's abstraction to layers, so it's easy to pickup.\n",
    "\n",
    ">However, if you would like to get the most out of this course, try to solve all the problems _without_ using anything from the TF Layers packages. You **can** still use classes from other packages that happen to have the same name as ones you find in TF Layers! For example, instead of using the TF Layers version of the `conv2d` class, [tf.layers.conv2d](https://www.tensorflow.org/api_docs/python/tf/layers/conv2d), you would want to use the TF Neural Network version of `conv2d`, [tf.nn.conv2d](https://www.tensorflow.org/api_docs/python/tf/nn/conv2d). \n",
    "\n",
    "Let's begin!\n",
    "\n",
    "### Input\n",
    "The neural network needs to read the image data, one-hot encoded labels, and dropout keep probability. Implement the following functions\n",
    "* Implement `neural_net_image_input`\n",
    " * Return a [TF Placeholder](https://www.tensorflow.org/api_docs/python/tf/placeholder)\n",
    " * Set the shape using `image_shape` with batch size set to `None`.\n",
    " * Name the TensorFlow placeholder \"x\" using the TensorFlow `name` parameter in the [TF Placeholder](https://www.tensorflow.org/api_docs/python/tf/placeholder).\n",
    "* Implement `neural_net_label_input`\n",
    " * Return a [TF Placeholder](https://www.tensorflow.org/api_docs/python/tf/placeholder)\n",
    " * Set the shape using `n_classes` with batch size set to `None`.\n",
    " * Name the TensorFlow placeholder \"y\" using the TensorFlow `name` parameter in the [TF Placeholder](https://www.tensorflow.org/api_docs/python/tf/placeholder).\n",
    "* Implement `neural_net_keep_prob_input`\n",
    " * Return a [TF Placeholder](https://www.tensorflow.org/api_docs/python/tf/placeholder) for dropout keep probability.\n",
    " * Name the TensorFlow placeholder \"keep_prob\" using the TensorFlow `name` parameter in the [TF Placeholder](https://www.tensorflow.org/api_docs/python/tf/placeholder).\n",
    "\n",
    "These names will be used at the end of the project to load your saved model.\n",
    "\n",
    "Note: `None` for shapes in TensorFlow allow for a dynamic size."
   ]
  },
  {
   "cell_type": "code",
   "execution_count": 78,
   "metadata": {},
   "outputs": [
    {
     "name": "stdout",
     "output_type": "stream",
     "text": [
      "Image Input Tests Passed.\n",
      "Label Input Tests Passed.\n",
      "Keep Prob Tests Passed.\n"
     ]
    }
   ],
   "source": [
    "import tensorflow as tf\n",
    "\n",
    "def neural_net_image_input(image_shape):\n",
    "    \"\"\"\n",
    "    Return a Tensor for a batch of image input\n",
    "    : image_shape: Shape of the images\n",
    "    : return: Tensor for image input.\n",
    "    \"\"\"\n",
    "    # TODO: Implement Function\n",
    "    \n",
    "    return tf.placeholder(tf.float32, [None, image_shape[0], image_shape[1], image_shape[2]], name = 'x')\n",
    "\n",
    "\n",
    "def neural_net_label_input(n_classes):\n",
    "    \"\"\"\n",
    "    Return a Tensor for a batch of label input\n",
    "    : n_classes: Number of classes\n",
    "    : return: Tensor for label input.\n",
    "    \"\"\"\n",
    "    # TODO: Implement Function\n",
    "    \n",
    "    return tf.placeholder(tf.float32, [None, n_classes], name = 'y')\n",
    "\n",
    "\n",
    "def neural_net_keep_prob_input():\n",
    "    \"\"\"\n",
    "    Return a Tensor for keep probability\n",
    "    : return: Tensor for keep probability.\n",
    "    \"\"\"\n",
    "    # TODO: Implement Function\n",
    "    \n",
    "    return tf.placeholder(tf.float32, name = 'keep_prob')\n",
    "\n",
    "\n",
    "\"\"\"\n",
    "DON'T MODIFY ANYTHING IN THIS CELL THAT IS BELOW THIS LINE\n",
    "\"\"\"\n",
    "tf.reset_default_graph()\n",
    "tests.test_nn_image_inputs(neural_net_image_input)\n",
    "tests.test_nn_label_inputs(neural_net_label_input)\n",
    "tests.test_nn_keep_prob_inputs(neural_net_keep_prob_input)"
   ]
  },
  {
   "cell_type": "markdown",
   "metadata": {},
   "source": [
    "### Convolution and Max Pooling Layer\n",
    "Convolution layers have a lot of success with images. For this code cell, you should implement the function `conv2d_maxpool` to apply convolution then max pooling:\n",
    "* Create the weight and bias using `conv_ksize`, `conv_num_outputs` and the shape of `x_tensor`.\n",
    "* Apply a convolution to `x_tensor` using weight and `conv_strides`.\n",
    " * We recommend you use same padding, but you're welcome to use any padding.\n",
    "* Add bias\n",
    "* Add a nonlinear activation to the convolution.\n",
    "* Apply Max Pooling using `pool_ksize` and `pool_strides`.\n",
    " * We recommend you use same padding, but you're welcome to use any padding.\n",
    "\n",
    "**Note:** You **can't** use [TensorFlow Layers](https://www.tensorflow.org/api_docs/python/tf/layers) or [TensorFlow Layers (contrib)](https://www.tensorflow.org/api_guides/python/contrib.layers) for **this** layer, but you can still use TensorFlow's [Neural Network](https://www.tensorflow.org/api_docs/python/tf/nn) package. You may still use the shortcut option for all the **other** layers.\n",
    "\n",
    "** Hint: **\n",
    "\n",
    "When unpacking values as an argument in Python, look into the [unpacking](https://docs.python.org/3/tutorial/controlflow.html#unpacking-argument-lists) operator. "
   ]
  },
  {
   "cell_type": "code",
   "execution_count": 115,
   "metadata": {},
   "outputs": [
    {
     "name": "stdout",
     "output_type": "stream",
     "text": [
      "Tests Passed\n"
     ]
    }
   ],
   "source": [
    "def conv2d_maxpool(x_tensor, conv_num_outputs, conv_ksize, conv_strides, pool_ksize, pool_strides):\n",
    "    \"\"\"\n",
    "    Apply convolution then max pooling to x_tensor\n",
    "    :param x_tensor: TensorFlow Tensor\n",
    "    :param conv_num_outputs: Number of outputs for the convolutional layer\n",
    "    :param conv_ksize: kernal size 2-D Tuple for the convolutional layer\n",
    "    :param conv_strides: Stride 2-D Tuple for convolution\n",
    "    :param pool_ksize: kernal size 2-D Tuple for pool\n",
    "    :param pool_strides: Stride 2-D Tuple for pool\n",
    "    : return: A tensor that represents convolution and max pooling of x_tensor\n",
    "    \"\"\"\n",
    "    # TODO: Implement Function\n",
    "\n",
    "    W = tf.Variable(tf.random_normal([conv_ksize[0], conv_ksize[1], x_tensor.get_shape().as_list()[-1], \n",
    "                                      conv_num_outputs], mean = 0.0, stddev = 0.1))\n",
    "    bias = tf.Variable(tf.zeros(conv_num_outputs))\n",
    "    strides = [1, conv_strides[0], conv_strides[1], 1]\n",
    "    conv = tf.nn.conv2d(x_tensor, W, strides=strides, padding='SAME')\n",
    "    conv = tf.nn.bias_add(conv, bias)\n",
    "    conv = tf.nn.relu(conv)\n",
    "    conv = tf.nn.max_pool(conv, ksize = [1, pool_ksize[0], pool_ksize[1], 1], \n",
    "                          strides = [1, pool_strides[0], pool_strides[1], 1], padding = 'SAME')\n",
    "    return conv\n",
    "\n",
    "\"\"\"\n",
    "DON'T MODIFY ANYTHING IN THIS CELL THAT IS BELOW THIS LINE\n",
    "\"\"\"\n",
    "tests.test_con_pool(conv2d_maxpool)"
   ]
  },
  {
   "cell_type": "markdown",
   "metadata": {},
   "source": [
    "### Flatten Layer\n",
    "Implement the `flatten` function to change the dimension of `x_tensor` from a 4-D tensor to a 2-D tensor.  The output should be the shape (*Batch Size*, *Flattened Image Size*). Shortcut option: you can use classes from the [TensorFlow Layers](https://www.tensorflow.org/api_docs/python/tf/layers) or [TensorFlow Layers (contrib)](https://www.tensorflow.org/api_guides/python/contrib.layers) packages for this layer. For more of a challenge, only use other TensorFlow packages."
   ]
  },
  {
   "cell_type": "code",
   "execution_count": 116,
   "metadata": {},
   "outputs": [
    {
     "name": "stdout",
     "output_type": "stream",
     "text": [
      "Tests Passed\n"
     ]
    }
   ],
   "source": [
    "def flatten(x_tensor):\n",
    "    \"\"\"\n",
    "    Flatten x_tensor to (Batch Size, Flattened Image Size)\n",
    "    : x_tensor: A tensor of size (Batch Size, ...), where ... are the image dimensions.\n",
    "    : return: A tensor of size (Batch Size, Flattened Image Size).\n",
    "    \"\"\"\n",
    "    # TODO: Implement Function\n",
    "    \n",
    "    return tf.contrib.layers.flatten(x_tensor)\n",
    "\n",
    "\n",
    "\"\"\"\n",
    "DON'T MODIFY ANYTHING IN THIS CELL THAT IS BELOW THIS LINE\n",
    "\"\"\"\n",
    "tests.test_flatten(flatten)"
   ]
  },
  {
   "cell_type": "markdown",
   "metadata": {},
   "source": [
    "### Fully-Connected Layer\n",
    "Implement the `fully_conn` function to apply a fully connected layer to `x_tensor` with the shape (*Batch Size*, *num_outputs*). Shortcut option: you can use classes from the [TensorFlow Layers](https://www.tensorflow.org/api_docs/python/tf/layers) or [TensorFlow Layers (contrib)](https://www.tensorflow.org/api_guides/python/contrib.layers) packages for this layer. For more of a challenge, only use other TensorFlow packages."
   ]
  },
  {
   "cell_type": "code",
   "execution_count": 117,
   "metadata": {},
   "outputs": [
    {
     "name": "stdout",
     "output_type": "stream",
     "text": [
      "Tests Passed\n"
     ]
    }
   ],
   "source": [
    "def fully_conn(x_tensor, num_outputs):\n",
    "    \"\"\"\n",
    "    Apply a fully connected layer to x_tensor using weight and bias\n",
    "    : x_tensor: A 2-D tensor where the first dimension is batch size.\n",
    "    : num_outputs: The number of output that the new tensor should be.\n",
    "    : return: A 2-D tensor where the second dimension is num_outputs.\n",
    "    \"\"\"\n",
    "    # TODO: Implement Function\n",
    "    \n",
    "    return tf.contrib.layers.fully_connected(x_tensor, num_outputs, tf.nn.relu)\n",
    "\n",
    "\n",
    "\"\"\"\n",
    "DON'T MODIFY ANYTHING IN THIS CELL THAT IS BELOW THIS LINE\n",
    "\"\"\"\n",
    "tests.test_fully_conn(fully_conn)"
   ]
  },
  {
   "cell_type": "markdown",
   "metadata": {},
   "source": [
    "### Output Layer\n",
    "Implement the `output` function to apply a fully connected layer to `x_tensor` with the shape (*Batch Size*, *num_outputs*). Shortcut option: you can use classes from the [TensorFlow Layers](https://www.tensorflow.org/api_docs/python/tf/layers) or [TensorFlow Layers (contrib)](https://www.tensorflow.org/api_guides/python/contrib.layers) packages for this layer. For more of a challenge, only use other TensorFlow packages.\n",
    "\n",
    "**Note:** Activation, softmax, or cross entropy should **not** be applied to this."
   ]
  },
  {
   "cell_type": "code",
   "execution_count": 118,
   "metadata": {},
   "outputs": [
    {
     "name": "stdout",
     "output_type": "stream",
     "text": [
      "Tests Passed\n"
     ]
    }
   ],
   "source": [
    "def output(x_tensor, num_outputs):\n",
    "    \"\"\"\n",
    "    Apply a output layer to x_tensor using weight and bias\n",
    "    : x_tensor: A 2-D tensor where the first dimension is batch size.\n",
    "    : num_outputs: The number of output that the new tensor should be.\n",
    "    : return: A 2-D tensor where the second dimension is num_outputs.\n",
    "    \"\"\"\n",
    "    # TODO: Implement Function\n",
    "    \n",
    "    return tf.layers.dense(x_tensor, num_outputs)\n",
    "\n",
    "\n",
    "\"\"\"\n",
    "DON'T MODIFY ANYTHING IN THIS CELL THAT IS BELOW THIS LINE\n",
    "\"\"\"\n",
    "tests.test_output(output)"
   ]
  },
  {
   "cell_type": "markdown",
   "metadata": {},
   "source": [
    "### Create Convolutional Model\n",
    "Implement the function `conv_net` to create a convolutional neural network model. The function takes in a batch of images, `x`, and outputs logits.  Use the layers you created above to create this model:\n",
    "\n",
    "* Apply 1, 2, or 3 Convolution and Max Pool layers\n",
    "* Apply a Flatten Layer\n",
    "* Apply 1, 2, or 3 Fully Connected Layers\n",
    "* Apply an Output Layer\n",
    "* Return the output\n",
    "* Apply [TensorFlow's Dropout](https://www.tensorflow.org/api_docs/python/tf/nn/dropout) to one or more layers in the model using `keep_prob`. "
   ]
  },
  {
   "cell_type": "code",
   "execution_count": 119,
   "metadata": {},
   "outputs": [
    {
     "name": "stdout",
     "output_type": "stream",
     "text": [
      "Neural Network Built!\n"
     ]
    }
   ],
   "source": [
    "def conv_net(x, keep_prob):\n",
    "    \"\"\"\n",
    "    Create a convolutional neural network model\n",
    "    : x: Placeholder tensor that holds image data.\n",
    "    : keep_prob: Placeholder tensor that hold dropout keep probability.\n",
    "    : return: Tensor that represents logits\n",
    "    \"\"\"\n",
    "    # TODO: Apply 1, 2, or 3 Convolution and Max Pool layers\n",
    "    #    Play around with different number of outputs, kernel size and stride\n",
    "    # Function Definition from Above:\n",
    "    #    conv2d_maxpool(x_tensor, conv_num_outputs, conv_ksize, conv_strides, pool_ksize, pool_strides)\n",
    "    \n",
    "    x = conv2d_maxpool(x, 16, (8, 8), (1, 1), (2, 2), (2, 2))\n",
    "    x = conv2d_maxpool(x, 32, (4, 4), (1, 1), (2, 2), (2, 2))\n",
    "    x = conv2d_maxpool(x, 64, (2, 2), (1, 1), (2, 2), (2, 2))\n",
    "\n",
    "    # TODO: Apply a Flatten Layer\n",
    "    # Function Definition from Above:\n",
    "    #   flatten(x_tensor)\n",
    "    \n",
    "    x = flatten(x)\n",
    "    \n",
    "    # TODO: Apply 1, 2, or 3 Fully Connected Layers\n",
    "    #    Play around with different number of outputs\n",
    "    # Function Definition from Above:\n",
    "    #   fully_conn(x_tensor, num_outputs)\n",
    "    \n",
    "    x = fully_conn(x, 1024)\n",
    "    x = tf.nn.dropout(x, keep_prob = keep_prob)\n",
    "    x = fully_conn(x, 512)\n",
    "    x = tf.nn.dropout(x, keep_prob = keep_prob)\n",
    "    \n",
    "    # TODO: Apply an Output Layer\n",
    "    #    Set this to the number of classes\n",
    "    # Function Definition from Above:\n",
    "    #   output(x_tensor, num_outputs)\n",
    "    \n",
    "    x = output(x, 10)\n",
    "    \n",
    "    # TODO: return output\n",
    "    \n",
    "    return x\n",
    "\n",
    "\n",
    "\"\"\"\n",
    "DON'T MODIFY ANYTHING IN THIS CELL THAT IS BELOW THIS LINE\n",
    "\"\"\"\n",
    "\n",
    "##############################\n",
    "## Build the Neural Network ##\n",
    "##############################\n",
    "\n",
    "# Remove previous weights, bias, inputs, etc..\n",
    "tf.reset_default_graph()\n",
    "\n",
    "# Inputs\n",
    "x = neural_net_image_input((32, 32, 3))\n",
    "y = neural_net_label_input(10)\n",
    "keep_prob = neural_net_keep_prob_input()\n",
    "\n",
    "# Model\n",
    "logits = conv_net(x, keep_prob)\n",
    "\n",
    "# Name logits Tensor, so that is can be loaded from disk after training\n",
    "logits = tf.identity(logits, name='logits')\n",
    "\n",
    "# Loss and Optimizer\n",
    "cost = tf.reduce_mean(tf.nn.softmax_cross_entropy_with_logits(logits=logits, labels=y))\n",
    "optimizer = tf.train.AdamOptimizer().minimize(cost)\n",
    "\n",
    "# Accuracy\n",
    "correct_pred = tf.equal(tf.argmax(logits, 1), tf.argmax(y, 1))\n",
    "accuracy = tf.reduce_mean(tf.cast(correct_pred, tf.float32), name='accuracy')\n",
    "\n",
    "tests.test_conv_net(conv_net)"
   ]
  },
  {
   "cell_type": "markdown",
   "metadata": {},
   "source": [
    "## Train the Neural Network\n",
    "### Single Optimization\n",
    "Implement the function `train_neural_network` to do a single optimization.  The optimization should use `optimizer` to optimize in `session` with a `feed_dict` of the following:\n",
    "* `x` for image input\n",
    "* `y` for labels\n",
    "* `keep_prob` for keep probability for dropout\n",
    "\n",
    "This function will be called for each batch, so `tf.global_variables_initializer()` has already been called.\n",
    "\n",
    "Note: Nothing needs to be returned. This function is only optimizing the neural network."
   ]
  },
  {
   "cell_type": "code",
   "execution_count": 120,
   "metadata": {},
   "outputs": [
    {
     "name": "stdout",
     "output_type": "stream",
     "text": [
      "Tests Passed\n"
     ]
    }
   ],
   "source": [
    "def train_neural_network(session, optimizer, keep_probability, feature_batch, label_batch):\n",
    "    \"\"\"\n",
    "    Optimize the session on a batch of images and labels\n",
    "    : session: Current TensorFlow session\n",
    "    : optimizer: TensorFlow optimizer function\n",
    "    : keep_probability: keep probability\n",
    "    : feature_batch: Batch of Numpy image data\n",
    "    : label_batch: Batch of Numpy label data\n",
    "    \"\"\"\n",
    "    # TODO: Implement Function\n",
    "    \n",
    "    session.run(optimizer, feed_dict = {keep_prob: keep_probability, x: feature_batch, y: label_batch})\n",
    "\n",
    "\"\"\"\n",
    "DON'T MODIFY ANYTHING IN THIS CELL THAT IS BELOW THIS LINE\n",
    "\"\"\"\n",
    "tests.test_train_nn(train_neural_network)"
   ]
  },
  {
   "cell_type": "markdown",
   "metadata": {},
   "source": [
    "### Show Stats\n",
    "Implement the function `print_stats` to print loss and validation accuracy.  Use the global variables `valid_features` and `valid_labels` to calculate validation accuracy.  Use a keep probability of `1.0` to calculate the loss and validation accuracy."
   ]
  },
  {
   "cell_type": "code",
   "execution_count": 121,
   "metadata": {},
   "outputs": [],
   "source": [
    "def print_stats(session, feature_batch, label_batch, cost, accuracy):\n",
    "    \"\"\"\n",
    "    Print information about loss and validation accuracy\n",
    "    : session: Current TensorFlow session\n",
    "    : feature_batch: Batch of Numpy image data\n",
    "    : label_batch: Batch of Numpy label data\n",
    "    : cost: TensorFlow cost function\n",
    "    : accuracy: TensorFlow accuracy function\n",
    "    \"\"\"\n",
    "    # TODO: Implement Function\n",
    "    \n",
    "    loss = session.run(cost, feed_dict = {x: feature_batch, y: label_batch, keep_prob: 1.0})\n",
    "    acc = session.run(accuracy, feed_dict = {x: valid_features, y: valid_labels, keep_prob: 1.0})\n",
    "    \n",
    "    print('Loss: {}'.format(loss))\n",
    "    print('Accuracy: {}'.format(acc))"
   ]
  },
  {
   "cell_type": "markdown",
   "metadata": {},
   "source": [
    "### Hyperparameters\n",
    "Tune the following parameters:\n",
    "* Set `epochs` to the number of iterations until the network stops learning or start overfitting\n",
    "* Set `batch_size` to the highest number that your machine has memory for.  Most people set them to common sizes of memory:\n",
    " * 64\n",
    " * 128\n",
    " * 256\n",
    " * ...\n",
    "* Set `keep_probability` to the probability of keeping a node using dropout"
   ]
  },
  {
   "cell_type": "code",
   "execution_count": 126,
   "metadata": {
    "collapsed": true
   },
   "outputs": [],
   "source": [
    "# TODO: Tune Parameters\n",
    "epochs = 25\n",
    "batch_size = 1028\n",
    "keep_probability = 0.6"
   ]
  },
  {
   "cell_type": "markdown",
   "metadata": {},
   "source": [
    "### Train on a Single CIFAR-10 Batch\n",
    "Instead of training the neural network on all the CIFAR-10 batches of data, let's use a single batch. This should save time while you iterate on the model to get a better accuracy.  Once the final validation accuracy is 50% or greater, run the model on all the data in the next section."
   ]
  },
  {
   "cell_type": "code",
   "execution_count": 127,
   "metadata": {},
   "outputs": [
    {
     "name": "stdout",
     "output_type": "stream",
     "text": [
      "Checking the Training on a Single Batch...\n",
      "Epoch  1, CIFAR-10 Batch 1:  Loss: 2.053743362426758\n",
      "Accuracy: 0.29420000314712524\n",
      "Epoch  2, CIFAR-10 Batch 1:  Loss: 1.8892192840576172\n",
      "Accuracy: 0.32199999690055847\n",
      "Epoch  3, CIFAR-10 Batch 1:  Loss: 1.7449942827224731\n",
      "Accuracy: 0.37619999051094055\n",
      "Epoch  4, CIFAR-10 Batch 1:  Loss: 1.644341230392456\n",
      "Accuracy: 0.39100000262260437\n",
      "Epoch  5, CIFAR-10 Batch 1:  Loss: 1.563653588294983\n",
      "Accuracy: 0.4163999855518341\n",
      "Epoch  6, CIFAR-10 Batch 1:  Loss: 1.52255117893219\n",
      "Accuracy: 0.42800000309944153\n",
      "Epoch  7, CIFAR-10 Batch 1:  Loss: 1.4623298645019531\n",
      "Accuracy: 0.43639999628067017\n",
      "Epoch  8, CIFAR-10 Batch 1:  Loss: 1.4077404737472534\n",
      "Accuracy: 0.45339998602867126\n",
      "Epoch  9, CIFAR-10 Batch 1:  Loss: 1.3481335639953613\n",
      "Accuracy: 0.46560001373291016\n",
      "Epoch 10, CIFAR-10 Batch 1:  Loss: 1.3282368183135986\n",
      "Accuracy: 0.4715999960899353\n",
      "Epoch 11, CIFAR-10 Batch 1:  Loss: 1.305336594581604\n",
      "Accuracy: 0.47279998660087585\n",
      "Epoch 12, CIFAR-10 Batch 1:  Loss: 1.2561557292938232\n",
      "Accuracy: 0.4832000136375427\n",
      "Epoch 13, CIFAR-10 Batch 1:  Loss: 1.2223782539367676\n",
      "Accuracy: 0.49140000343322754\n",
      "Epoch 14, CIFAR-10 Batch 1:  Loss: 1.2504414319992065\n",
      "Accuracy: 0.4699999988079071\n",
      "Epoch 15, CIFAR-10 Batch 1:  Loss: 1.1800799369812012\n",
      "Accuracy: 0.4885999858379364\n",
      "Epoch 16, CIFAR-10 Batch 1:  Loss: 1.16818106174469\n",
      "Accuracy: 0.48579999804496765\n",
      "Epoch 17, CIFAR-10 Batch 1:  Loss: 1.1092336177825928\n",
      "Accuracy: 0.5013999938964844\n",
      "Epoch 18, CIFAR-10 Batch 1:  Loss: 1.057299256324768\n",
      "Accuracy: 0.515999972820282\n",
      "Epoch 19, CIFAR-10 Batch 1:  Loss: 1.0363253355026245\n",
      "Accuracy: 0.5130000114440918\n",
      "Epoch 20, CIFAR-10 Batch 1:  Loss: 1.014573574066162\n",
      "Accuracy: 0.5184000134468079\n",
      "Epoch 21, CIFAR-10 Batch 1:  Loss: 0.9695624709129333\n",
      "Accuracy: 0.524399995803833\n",
      "Epoch 22, CIFAR-10 Batch 1:  Loss: 0.9591898322105408\n",
      "Accuracy: 0.5253999829292297\n",
      "Epoch 23, CIFAR-10 Batch 1:  Loss: 0.9740912318229675\n",
      "Accuracy: 0.5073999762535095\n",
      "Epoch 24, CIFAR-10 Batch 1:  Loss: 0.890574038028717\n",
      "Accuracy: 0.5351999998092651\n",
      "Epoch 25, CIFAR-10 Batch 1:  Loss: 0.905971109867096\n",
      "Accuracy: 0.5202000141143799\n"
     ]
    }
   ],
   "source": [
    "\"\"\"\n",
    "DON'T MODIFY ANYTHING IN THIS CELL\n",
    "\"\"\"\n",
    "print('Checking the Training on a Single Batch...')\n",
    "with tf.Session() as sess:\n",
    "    # Initializing the variables\n",
    "    sess.run(tf.global_variables_initializer())\n",
    "    \n",
    "    # Training cycle\n",
    "    for epoch in range(epochs):\n",
    "        batch_i = 1\n",
    "        for batch_features, batch_labels in helper.load_preprocess_training_batch(batch_i, batch_size):\n",
    "            train_neural_network(sess, optimizer, keep_probability, batch_features, batch_labels)\n",
    "        print('Epoch {:>2}, CIFAR-10 Batch {}:  '.format(epoch + 1, batch_i), end='')\n",
    "        print_stats(sess, batch_features, batch_labels, cost, accuracy)"
   ]
  },
  {
   "cell_type": "markdown",
   "metadata": {},
   "source": [
    "### Fully Train the Model\n",
    "Now that you got a good accuracy with a single CIFAR-10 batch, try it with all five batches."
   ]
  },
  {
   "cell_type": "code",
   "execution_count": null,
   "metadata": {},
   "outputs": [
    {
     "name": "stdout",
     "output_type": "stream",
     "text": [
      "Training...\n",
      "Epoch  1, CIFAR-10 Batch 1:  Loss: 2.0948455333709717\n",
      "Accuracy: 0.2305999994277954\n",
      "Epoch  1, CIFAR-10 Batch 2:  Loss: 1.9420593976974487\n",
      "Accuracy: 0.2874000072479248\n",
      "Epoch  1, CIFAR-10 Batch 3:  Loss: 1.804634690284729\n",
      "Accuracy: 0.3409999907016754\n",
      "Epoch  1, CIFAR-10 Batch 4:  Loss: 1.7533692121505737\n",
      "Accuracy: 0.3747999966144562\n",
      "Epoch  1, CIFAR-10 Batch 5:  Loss: 1.7111073732376099\n",
      "Accuracy: 0.39160001277923584\n",
      "Epoch  2, CIFAR-10 Batch 1:  Loss: 1.6322283744812012\n",
      "Accuracy: 0.41100001335144043\n",
      "Epoch  2, CIFAR-10 Batch 2:  Loss: 1.587599277496338\n",
      "Accuracy: 0.42660000920295715\n",
      "Epoch  2, CIFAR-10 Batch 3:  Loss: 1.5339292287826538\n",
      "Accuracy: 0.4339999854564667\n",
      "Epoch  2, CIFAR-10 Batch 4:  Loss: 1.4952939748764038\n",
      "Accuracy: 0.46000000834465027\n",
      "Epoch  2, CIFAR-10 Batch 5:  Loss: 1.4957014322280884\n",
      "Accuracy: 0.4603999853134155\n",
      "Epoch  3, CIFAR-10 Batch 1:  Loss: 1.4553070068359375\n",
      "Accuracy: 0.4684000015258789\n",
      "Epoch  3, CIFAR-10 Batch 2:  Loss: 1.4747138023376465\n",
      "Accuracy: 0.45899999141693115\n",
      "Epoch  3, CIFAR-10 Batch 3:  Loss: 1.3891069889068604\n",
      "Accuracy: 0.4724000096321106\n",
      "Epoch  3, CIFAR-10 Batch 4:  Loss: 1.3726599216461182\n",
      "Accuracy: 0.49459999799728394\n",
      "Epoch  3, CIFAR-10 Batch 5:  Loss: 1.3864893913269043\n",
      "Accuracy: 0.49000000953674316\n",
      "Epoch  4, CIFAR-10 Batch 1:  Loss: 1.368328332901001\n",
      "Accuracy: 0.48539999127388\n",
      "Epoch  4, CIFAR-10 Batch 2:  Loss: 1.3948525190353394\n",
      "Accuracy: 0.4830000102519989\n",
      "Epoch  4, CIFAR-10 Batch 3:  Loss: 1.3038400411605835\n",
      "Accuracy: 0.5091999769210815\n",
      "Epoch  4, CIFAR-10 Batch 4:  Loss: 1.3135401010513306\n",
      "Accuracy: 0.5004000067710876\n",
      "Epoch  4, CIFAR-10 Batch 5:  Loss: 1.3072415590286255\n",
      "Accuracy: 0.5235999822616577\n",
      "Epoch  5, CIFAR-10 Batch 1:  Loss: 1.2717241048812866\n",
      "Accuracy: 0.5145999789237976\n",
      "Epoch  5, CIFAR-10 Batch 2:  Loss: 1.3005229234695435\n",
      "Accuracy: 0.5149999856948853\n",
      "Epoch  5, CIFAR-10 Batch 3:  Loss: 1.2393041849136353\n",
      "Accuracy: 0.5325999855995178\n",
      "Epoch  5, CIFAR-10 Batch 4:  Loss: 1.201460361480713\n",
      "Accuracy: 0.5285999774932861\n",
      "Epoch  5, CIFAR-10 Batch 5:  Loss: 1.2365915775299072\n",
      "Accuracy: 0.5267999768257141\n",
      "Epoch  6, CIFAR-10 Batch 1:  Loss: 1.2185195684432983\n",
      "Accuracy: 0.5339999794960022\n",
      "Epoch  6, CIFAR-10 Batch 2:  Loss: 1.2285501956939697\n",
      "Accuracy: 0.534600019454956\n",
      "Epoch  6, CIFAR-10 Batch 3:  Loss: 1.1831707954406738\n",
      "Accuracy: 0.54339998960495\n",
      "Epoch  6, CIFAR-10 Batch 4:  Loss: 1.1541433334350586\n",
      "Accuracy: 0.5396000146865845\n",
      "Epoch  6, CIFAR-10 Batch 5:  Loss: 1.1772863864898682\n",
      "Accuracy: 0.5472000241279602\n",
      "Epoch  7, CIFAR-10 Batch 1:  Loss: 1.185136318206787\n",
      "Accuracy: 0.5428000092506409\n",
      "Epoch  7, CIFAR-10 Batch 2:  Loss: 1.1843297481536865\n",
      "Accuracy: 0.5418000221252441\n",
      "Epoch  7, CIFAR-10 Batch 3:  Loss: 1.143709421157837\n",
      "Accuracy: 0.5541999936103821\n",
      "Epoch  7, CIFAR-10 Batch 4:  Loss: 1.104751706123352\n",
      "Accuracy: 0.553600013256073\n",
      "Epoch  7, CIFAR-10 Batch 5:  Loss: 1.1282267570495605\n",
      "Accuracy: 0.5627999901771545\n",
      "Epoch  8, CIFAR-10 Batch 1:  Loss: 1.1301021575927734\n",
      "Accuracy: 0.5626000165939331\n",
      "Epoch  8, CIFAR-10 Batch 2:  Loss: 1.1481155157089233\n",
      "Accuracy: 0.5551999807357788\n",
      "Epoch  8, CIFAR-10 Batch 3:  Loss: 1.1061325073242188\n",
      "Accuracy: 0.5645999908447266\n",
      "Epoch  8, CIFAR-10 Batch 4:  Loss: 1.0558549165725708\n",
      "Accuracy: 0.5658000111579895\n",
      "Epoch  8, CIFAR-10 Batch 5:  Loss: 1.0851763486862183\n",
      "Accuracy: 0.5735999941825867\n",
      "Epoch  9, CIFAR-10 Batch 1:  Loss: 1.0870907306671143\n",
      "Accuracy: 0.5717999935150146\n",
      "Epoch  9, CIFAR-10 Batch 2:  Loss: 1.104032278060913\n",
      "Accuracy: 0.5598000288009644\n",
      "Epoch  9, CIFAR-10 Batch 3:  Loss: 1.0827115774154663\n",
      "Accuracy: 0.5685999989509583\n",
      "Epoch  9, CIFAR-10 Batch 4:  Loss: 1.0285509824752808\n",
      "Accuracy: 0.5690000057220459\n",
      "Epoch  9, CIFAR-10 Batch 5:  Loss: 1.0487186908721924\n",
      "Accuracy: 0.5703999996185303\n",
      "Epoch 10, CIFAR-10 Batch 1:  Loss: 1.0591570138931274\n",
      "Accuracy: 0.5767999887466431\n",
      "Epoch 10, CIFAR-10 Batch 2:  Loss: 1.033096432685852\n",
      "Accuracy: 0.5745999813079834\n",
      "Epoch 10, CIFAR-10 Batch 3:  Loss: 1.0541627407073975\n",
      "Accuracy: 0.5809999704360962\n",
      "Epoch 10, CIFAR-10 Batch 4:  Loss: 0.9773167967796326\n",
      "Accuracy: 0.5708000063896179\n",
      "Epoch 10, CIFAR-10 Batch 5:  Loss: 1.005077600479126\n",
      "Accuracy: 0.5830000042915344\n",
      "Epoch 11, CIFAR-10 Batch 1:  Loss: 1.0281537771224976\n",
      "Accuracy: 0.5848000049591064\n",
      "Epoch 11, CIFAR-10 Batch 2:  Loss: 1.0171384811401367\n",
      "Accuracy: 0.5654000043869019\n",
      "Epoch 11, CIFAR-10 Batch 3:  Loss: 1.0093045234680176\n",
      "Accuracy: 0.5857999920845032\n",
      "Epoch 11, CIFAR-10 Batch 4:  Loss: 0.9384208917617798\n",
      "Accuracy: 0.5866000056266785\n",
      "Epoch 11, CIFAR-10 Batch 5:  Loss: 0.9729520082473755\n",
      "Accuracy: 0.5916000008583069\n",
      "Epoch 12, CIFAR-10 Batch 1:  Loss: 0.97902512550354\n",
      "Accuracy: 0.597599983215332\n",
      "Epoch 12, CIFAR-10 Batch 2:  Loss: 0.9769991636276245\n",
      "Accuracy: 0.5803999900817871\n",
      "Epoch 12, CIFAR-10 Batch 3:  Loss: 0.9824777841567993\n",
      "Accuracy: 0.5956000089645386\n",
      "Epoch 12, CIFAR-10 Batch 4:  Loss: 0.9060803651809692\n",
      "Accuracy: 0.5825999975204468\n",
      "Epoch 12, CIFAR-10 Batch 5:  Loss: 0.9357234239578247\n",
      "Accuracy: 0.5960000157356262\n",
      "Epoch 13, CIFAR-10 Batch 1:  Loss: 0.9356889128684998\n",
      "Accuracy: 0.6018000245094299\n",
      "Epoch 13, CIFAR-10 Batch 2:  Loss: 0.9416796565055847\n",
      "Accuracy: 0.579200029373169\n",
      "Epoch 13, CIFAR-10 Batch 3:  Loss: 0.9686480760574341\n",
      "Accuracy: 0.5896000266075134\n",
      "Epoch 13, CIFAR-10 Batch 4:  Loss: 0.8844835758209229\n",
      "Accuracy: 0.5820000171661377\n",
      "Epoch 13, CIFAR-10 Batch 5:  Loss: 0.9008963108062744\n",
      "Accuracy: 0.6021999716758728\n",
      "Epoch 14, CIFAR-10 Batch 1:  Loss: 0.9209200143814087\n",
      "Accuracy: 0.599399983882904\n",
      "Epoch 14, CIFAR-10 Batch 2:  Loss: 0.8915685415267944\n",
      "Accuracy: 0.5899999737739563\n",
      "Epoch 14, CIFAR-10 Batch 3:  Loss: 0.9256936311721802\n",
      "Accuracy: 0.5956000089645386\n",
      "Epoch 14, CIFAR-10 Batch 4:  Loss: 0.855066180229187\n",
      "Accuracy: 0.5866000056266785\n",
      "Epoch 14, CIFAR-10 Batch 5:  Loss: 0.8819833397865295\n",
      "Accuracy: 0.5996000170707703\n",
      "Epoch 15, CIFAR-10 Batch 1:  Loss: 0.9124544858932495\n",
      "Accuracy: 0.593999981880188\n",
      "Epoch 15, CIFAR-10 Batch 2:  Loss: 0.8803629279136658\n",
      "Accuracy: 0.5974000096321106\n",
      "Epoch 15, CIFAR-10 Batch 3:  Loss: 0.8889185190200806\n",
      "Accuracy: 0.5952000021934509\n",
      "Epoch 15, CIFAR-10 Batch 4:  Loss: 0.8105090260505676\n",
      "Accuracy: 0.6028000116348267\n",
      "Epoch 15, CIFAR-10 Batch 5:  Loss: 0.8764193058013916\n",
      "Accuracy: 0.5964000225067139\n",
      "Epoch 16, CIFAR-10 Batch 1:  Loss: 0.8841434717178345\n",
      "Accuracy: 0.5856000185012817\n",
      "Epoch 16, CIFAR-10 Batch 2:  Loss: 0.8427810668945312\n",
      "Accuracy: 0.5989999771118164\n",
      "Epoch 16, CIFAR-10 Batch 3:  Loss: 0.888933539390564\n",
      "Accuracy: 0.5961999893188477\n",
      "Epoch 16, CIFAR-10 Batch 4:  Loss: 0.8145180940628052\n",
      "Accuracy: 0.6086000204086304\n",
      "Epoch 16, CIFAR-10 Batch 5:  Loss: 0.8382413983345032\n",
      "Accuracy: 0.6014000177383423\n",
      "Epoch 17, CIFAR-10 Batch 1:  Loss: 0.8319700360298157\n",
      "Accuracy: 0.6021999716758728\n",
      "Epoch 17, CIFAR-10 Batch 2:  Loss: 0.8527646660804749\n",
      "Accuracy: 0.6018000245094299\n",
      "Epoch 17, CIFAR-10 Batch 3:  Loss: 0.8582022786140442\n",
      "Accuracy: 0.5974000096321106\n",
      "Epoch 17, CIFAR-10 Batch 4:  Loss: 0.7717486619949341\n",
      "Accuracy: 0.5996000170707703\n",
      "Epoch 17, CIFAR-10 Batch 5:  Loss: 0.8087512254714966\n",
      "Accuracy: 0.6014000177383423\n",
      "Epoch 18, CIFAR-10 Batch 1:  Loss: 0.7761126756668091\n",
      "Accuracy: 0.6173999905586243\n",
      "Epoch 18, CIFAR-10 Batch 2:  Loss: 0.8128492832183838\n",
      "Accuracy: 0.602400004863739\n",
      "Epoch 18, CIFAR-10 Batch 3:  Loss: 0.8141935467720032\n",
      "Accuracy: 0.6043999791145325\n",
      "Epoch 18, CIFAR-10 Batch 4:  Loss: 0.7253109812736511\n",
      "Accuracy: 0.6110000014305115\n",
      "Epoch 18, CIFAR-10 Batch 5:  Loss: 0.774755597114563\n",
      "Accuracy: 0.6074000000953674\n",
      "Epoch 19, CIFAR-10 Batch 1:  Loss: 0.7434239387512207\n",
      "Accuracy: 0.6151999831199646\n",
      "Epoch 19, CIFAR-10 Batch 2:  Loss: 0.7658587694168091\n",
      "Accuracy: 0.6141999959945679\n",
      "Epoch 19, CIFAR-10 Batch 3:  Loss: 0.8061100840568542\n",
      "Accuracy: 0.603600025177002\n",
      "Epoch 19, CIFAR-10 Batch 4:  Loss: 0.7146524786949158\n",
      "Accuracy: 0.6154000163078308\n",
      "Epoch 19, CIFAR-10 Batch 5:  Loss: 0.7341871857643127\n",
      "Accuracy: 0.614799976348877\n",
      "Epoch 20, CIFAR-10 Batch 1:  Loss: 0.7173011302947998\n",
      "Accuracy: 0.6187999844551086\n",
      "Epoch 20, CIFAR-10 Batch 2:  Loss: 0.7351697087287903\n",
      "Accuracy: 0.618399977684021\n",
      "Epoch 20, CIFAR-10 Batch 3:  Loss: 0.7877501845359802\n",
      "Accuracy: 0.6069999933242798\n",
      "Epoch 20, CIFAR-10 Batch 4:  Loss: 0.665705680847168\n",
      "Accuracy: 0.6173999905586243\n"
     ]
    },
    {
     "name": "stdout",
     "output_type": "stream",
     "text": [
      "Epoch 20, CIFAR-10 Batch 5:  Loss: 0.6920614242553711\n",
      "Accuracy: 0.6169999837875366\n",
      "Epoch 21, CIFAR-10 Batch 1:  Loss: 0.6870058178901672\n",
      "Accuracy: 0.6176000237464905\n",
      "Epoch 21, CIFAR-10 Batch 2:  Loss: 0.6936852335929871\n",
      "Accuracy: 0.6136000156402588\n",
      "Epoch 21, CIFAR-10 Batch 3:  Loss: 0.7295116186141968\n",
      "Accuracy: 0.6141999959945679\n",
      "Epoch 21, CIFAR-10 Batch 4:  Loss: 0.6641046404838562\n",
      "Accuracy: 0.616599977016449\n",
      "Epoch 21, CIFAR-10 Batch 5:  Loss: 0.6876031160354614\n",
      "Accuracy: 0.6137999892234802\n",
      "Epoch 22, CIFAR-10 Batch 1:  Loss: 0.6686805486679077\n",
      "Accuracy: 0.621399998664856\n",
      "Epoch 22, CIFAR-10 Batch 2:  Loss: 0.7134355306625366\n",
      "Accuracy: 0.6100000143051147\n",
      "Epoch 22, CIFAR-10 Batch 3:  Loss: 0.6822381615638733\n",
      "Accuracy: 0.6158000230789185\n",
      "Epoch 22, CIFAR-10 Batch 4:  Loss: 0.6388357281684875\n",
      "Accuracy: 0.6164000034332275\n",
      "Epoch 22, CIFAR-10 Batch 5:  Loss: 0.6792095899581909\n",
      "Accuracy: 0.6086000204086304\n",
      "Epoch 23, CIFAR-10 Batch 1:  Loss: 0.6249513626098633\n",
      "Accuracy: 0.6312000155448914\n",
      "Epoch 23, CIFAR-10 Batch 2:  Loss: 0.6915550827980042\n",
      "Accuracy: 0.6014000177383423\n",
      "Epoch 23, CIFAR-10 Batch 3:  Loss: 0.6640934348106384\n",
      "Accuracy: 0.6182000041007996\n",
      "Epoch 23, CIFAR-10 Batch 4:  Loss: 0.6042373776435852\n",
      "Accuracy: 0.6244000196456909\n",
      "Epoch 23, CIFAR-10 Batch 5:  Loss: 0.6433570981025696\n",
      "Accuracy: 0.6132000088691711\n",
      "Epoch 24, CIFAR-10 Batch 1:  Loss: 0.62517911195755\n",
      "Accuracy: 0.6208000183105469\n",
      "Epoch 24, CIFAR-10 Batch 2:  Loss: 0.6305614709854126\n",
      "Accuracy: 0.6164000034332275\n",
      "Epoch 24, CIFAR-10 Batch 3:  Loss: 0.6697320342063904\n",
      "Accuracy: 0.6065999865531921\n"
     ]
    }
   ],
   "source": [
    "\"\"\"\n",
    "DON'T MODIFY ANYTHING IN THIS CELL\n",
    "\"\"\"\n",
    "save_model_path = './image_classification'\n",
    "\n",
    "print('Training...')\n",
    "with tf.Session() as sess:\n",
    "    # Initializing the variables\n",
    "    sess.run(tf.global_variables_initializer())\n",
    "    \n",
    "    # Training cycle\n",
    "    for epoch in range(epochs):\n",
    "        # Loop over all batches\n",
    "        n_batches = 5\n",
    "        for batch_i in range(1, n_batches + 1):\n",
    "            for batch_features, batch_labels in helper.load_preprocess_training_batch(batch_i, batch_size):\n",
    "                train_neural_network(sess, optimizer, keep_probability, batch_features, batch_labels)\n",
    "            print('Epoch {:>2}, CIFAR-10 Batch {}:  '.format(epoch + 1, batch_i), end='')\n",
    "            print_stats(sess, batch_features, batch_labels, cost, accuracy)\n",
    "            \n",
    "    # Save Model\n",
    "    saver = tf.train.Saver()\n",
    "    save_path = saver.save(sess, save_model_path)"
   ]
  },
  {
   "cell_type": "markdown",
   "metadata": {},
   "source": [
    "# Checkpoint\n",
    "The model has been saved to disk.\n",
    "## Test Model\n",
    "Test your model against the test dataset.  This will be your final accuracy. You should have an accuracy greater than 50%. If you don't, keep tweaking the model architecture and parameters."
   ]
  },
  {
   "cell_type": "code",
   "execution_count": null,
   "metadata": {},
   "outputs": [],
   "source": [
    "\"\"\"\n",
    "DON'T MODIFY ANYTHING IN THIS CELL\n",
    "\"\"\"\n",
    "%matplotlib inline\n",
    "%config InlineBackend.figure_format = 'retina'\n",
    "\n",
    "import tensorflow as tf\n",
    "import pickle\n",
    "import helper\n",
    "import random\n",
    "\n",
    "# Set batch size if not already set\n",
    "try:\n",
    "    if batch_size:\n",
    "        pass\n",
    "except NameError:\n",
    "    batch_size = 64\n",
    "\n",
    "save_model_path = './image_classification'\n",
    "n_samples = 4\n",
    "top_n_predictions = 3\n",
    "\n",
    "def test_model():\n",
    "    \"\"\"\n",
    "    Test the saved model against the test dataset\n",
    "    \"\"\"\n",
    "\n",
    "    test_features, test_labels = pickle.load(open('preprocess_training.p', mode='rb'))\n",
    "    loaded_graph = tf.Graph()\n",
    "\n",
    "    with tf.Session(graph=loaded_graph) as sess:\n",
    "        # Load model\n",
    "        loader = tf.train.import_meta_graph(save_model_path + '.meta')\n",
    "        loader.restore(sess, save_model_path)\n",
    "\n",
    "        # Get Tensors from loaded model\n",
    "        loaded_x = loaded_graph.get_tensor_by_name('x:0')\n",
    "        loaded_y = loaded_graph.get_tensor_by_name('y:0')\n",
    "        loaded_keep_prob = loaded_graph.get_tensor_by_name('keep_prob:0')\n",
    "        loaded_logits = loaded_graph.get_tensor_by_name('logits:0')\n",
    "        loaded_acc = loaded_graph.get_tensor_by_name('accuracy:0')\n",
    "        \n",
    "        # Get accuracy in batches for memory limitations\n",
    "        test_batch_acc_total = 0\n",
    "        test_batch_count = 0\n",
    "        \n",
    "        for train_feature_batch, train_label_batch in helper.batch_features_labels(test_features, test_labels, batch_size):\n",
    "            test_batch_acc_total += sess.run(\n",
    "                loaded_acc,\n",
    "                feed_dict={loaded_x: train_feature_batch, loaded_y: train_label_batch, loaded_keep_prob: 1.0})\n",
    "            test_batch_count += 1\n",
    "\n",
    "        print('Testing Accuracy: {}\\n'.format(test_batch_acc_total/test_batch_count))\n",
    "\n",
    "        # Print Random Samples\n",
    "        random_test_features, random_test_labels = tuple(zip(*random.sample(list(zip(test_features, test_labels)), n_samples)))\n",
    "        random_test_predictions = sess.run(\n",
    "            tf.nn.top_k(tf.nn.softmax(loaded_logits), top_n_predictions),\n",
    "            feed_dict={loaded_x: random_test_features, loaded_y: random_test_labels, loaded_keep_prob: 1.0})\n",
    "        helper.display_image_predictions(random_test_features, random_test_labels, random_test_predictions)\n",
    "\n",
    "\n",
    "test_model()"
   ]
  },
  {
   "cell_type": "markdown",
   "metadata": {},
   "source": [
    "## Why 50-80% Accuracy?\n",
    "You might be wondering why you can't get an accuracy any higher. First things first, 50% isn't bad for a simple CNN.  Pure guessing would get you 10% accuracy. That's because there are many more techniques that can be applied to your model and we recemmond that once you are done with this project, you explore!\n",
    "\n",
    "## Submitting This Project\n",
    "When submitting this project, make sure to run all the cells before saving the notebook.  Save the notebook file as \"image_classification.ipynb\" and save it as a HTML file under \"File\" -> \"Download as\".  Include the \"helper.py\" and \"problem_unittests.py\" files in your submission."
   ]
  }
 ],
 "metadata": {
  "kernelspec": {
   "display_name": "Python 3",
   "language": "python",
   "name": "python3"
  },
  "language_info": {
   "codemirror_mode": {
    "name": "ipython",
    "version": 3
   },
   "file_extension": ".py",
   "mimetype": "text/x-python",
   "name": "python",
   "nbconvert_exporter": "python",
   "pygments_lexer": "ipython3",
   "version": "3.6.5"
  }
 },
 "nbformat": 4,
 "nbformat_minor": 1
}
